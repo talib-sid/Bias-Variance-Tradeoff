{
 "cells": [
  {
   "cell_type": "code",
   "execution_count": 1,
   "id": "5269fa06",
   "metadata": {
    "execution": {
     "iopub.execute_input": "2023-02-16T11:37:38.115744Z",
     "iopub.status.busy": "2023-02-16T11:37:38.115114Z",
     "iopub.status.idle": "2023-02-16T11:37:39.432350Z",
     "shell.execute_reply": "2023-02-16T11:37:39.431216Z"
    },
    "papermill": {
     "duration": 1.327111,
     "end_time": "2023-02-16T11:37:39.435187",
     "exception": false,
     "start_time": "2023-02-16T11:37:38.108076",
     "status": "completed"
    },
    "tags": []
   },
   "outputs": [],
   "source": [
    "import numpy as np\n",
    "import pandas as pd\n",
    "import tabulate\n",
    "import matplotlib.pyplot as plt\n",
    "import pickle, random\n",
    "from sklearn.preprocessing import PolynomialFeatures\n",
    "from sklearn.linear_model import LinearRegression"
   ]
  },
  {
   "cell_type": "markdown",
   "id": "e6ddcf81",
   "metadata": {
    "papermill": {
     "duration": 0.003392,
     "end_time": "2023-02-16T11:37:39.442776",
     "exception": false,
     "start_time": "2023-02-16T11:37:39.439384",
     "status": "completed"
    },
    "tags": []
   },
   "source": [
    "# **Loading data**\""
   ]
  },
  {
   "cell_type": "code",
   "execution_count": 2,
   "id": "79693650",
   "metadata": {
    "execution": {
     "iopub.execute_input": "2023-02-16T11:37:39.453680Z",
     "iopub.status.busy": "2023-02-16T11:37:39.453044Z",
     "iopub.status.idle": "2023-02-16T11:37:39.480881Z",
     "shell.execute_reply": "2023-02-16T11:37:39.479520Z"
    },
    "papermill": {
     "duration": 0.037068,
     "end_time": "2023-02-16T11:37:39.483532",
     "exception": false,
     "start_time": "2023-02-16T11:37:39.446464",
     "status": "completed"
    },
    "tags": []
   },
   "outputs": [],
   "source": [
    "with open('/kaggle/input/aaaaaaaa/train_dataset.pickle', 'rb') as f:\n",
    "    data = pickle.Unpickler(f).load()\n",
    "\n",
    "with open('/kaggle/input/aaaaaaaa/test_dataset.pickle', 'rb') as g:\n",
    "    test = pickle.Unpickler(g).load()"
   ]
  },
  {
   "cell_type": "markdown",
   "id": "13c90263",
   "metadata": {
    "papermill": {
     "duration": 0.003518,
     "end_time": "2023-02-16T11:37:39.491160",
     "exception": false,
     "start_time": "2023-02-16T11:37:39.487642",
     "status": "completed"
    },
    "tags": []
   },
   "source": [
    "# **Sampling Data**"
   ]
  },
  {
   "cell_type": "markdown",
   "id": "8e04d44c",
   "metadata": {
    "papermill": {
     "duration": 0.003493,
     "end_time": "2023-02-16T11:37:39.498463",
     "exception": false,
     "start_time": "2023-02-16T11:37:39.494970",
     "status": "completed"
    },
    "tags": []
   },
   "source": [
    "### **Training Data**"
   ]
  },
  {
   "cell_type": "code",
   "execution_count": 3,
   "id": "fce6441e",
   "metadata": {
    "execution": {
     "iopub.execute_input": "2023-02-16T11:37:39.508541Z",
     "iopub.status.busy": "2023-02-16T11:37:39.507349Z",
     "iopub.status.idle": "2023-02-16T11:37:39.516970Z",
     "shell.execute_reply": "2023-02-16T11:37:39.515942Z"
    },
    "papermill": {
     "duration": 0.017315,
     "end_time": "2023-02-16T11:37:39.519431",
     "exception": false,
     "start_time": "2023-02-16T11:37:39.502116",
     "status": "completed"
    },
    "tags": []
   },
   "outputs": [],
   "source": [
    "xi_train, yi_train = np.split(data, 2, axis=1)\n",
    "xi_train = np.array_split(xi_train, 20)\n",
    "yi_train = np.array_split(yi_train, 20)"
   ]
  },
  {
   "cell_type": "markdown",
   "id": "00662f4e",
   "metadata": {
    "papermill": {
     "duration": 0.003426,
     "end_time": "2023-02-16T11:37:39.527043",
     "exception": false,
     "start_time": "2023-02-16T11:37:39.523617",
     "status": "completed"
    },
    "tags": []
   },
   "source": [
    "### **Testing Data**"
   ]
  },
  {
   "cell_type": "code",
   "execution_count": 4,
   "id": "997354a9",
   "metadata": {
    "execution": {
     "iopub.execute_input": "2023-02-16T11:37:39.537140Z",
     "iopub.status.busy": "2023-02-16T11:37:39.535824Z",
     "iopub.status.idle": "2023-02-16T11:37:39.542066Z",
     "shell.execute_reply": "2023-02-16T11:37:39.541031Z"
    },
    "papermill": {
     "duration": 0.013553,
     "end_time": "2023-02-16T11:37:39.544297",
     "exception": false,
     "start_time": "2023-02-16T11:37:39.530744",
     "status": "completed"
    },
    "tags": []
   },
   "outputs": [],
   "source": [
    "xi_test, yi_test = test[:,0], test[:,1]\n",
    "xi_test = xi_test.reshape(-1, 1)"
   ]
  },
  {
   "cell_type": "markdown",
   "id": "b2ab5d3c",
   "metadata": {
    "papermill": {
     "duration": 0.00462,
     "end_time": "2023-02-16T11:37:39.554222",
     "exception": false,
     "start_time": "2023-02-16T11:37:39.549602",
     "status": "completed"
    },
    "tags": []
   },
   "source": [
    "# **Polynomial Regression**"
   ]
  },
  {
   "cell_type": "markdown",
   "id": "2fc4d551",
   "metadata": {
    "papermill": {
     "duration": 0.003438,
     "end_time": "2023-02-16T11:37:39.561404",
     "exception": false,
     "start_time": "2023-02-16T11:37:39.557966",
     "status": "completed"
    },
    "tags": []
   },
   "source": [
    "### **Training and Testing Data**"
   ]
  },
  {
   "cell_type": "code",
   "execution_count": 5,
   "id": "c3f45f84",
   "metadata": {
    "execution": {
     "iopub.execute_input": "2023-02-16T11:37:39.570947Z",
     "iopub.status.busy": "2023-02-16T11:37:39.570253Z",
     "iopub.status.idle": "2023-02-16T11:37:39.624665Z",
     "shell.execute_reply": "2023-02-16T11:37:39.623477Z"
    },
    "papermill": {
     "duration": 0.062407,
     "end_time": "2023-02-16T11:37:39.627430",
     "exception": false,
     "start_time": "2023-02-16T11:37:39.565023",
     "status": "completed"
    },
    "tags": []
   },
   "outputs": [],
   "source": [
    "xi_vec_train = { \"degree \" + str(i): [PolynomialFeatures(i).fit_transform(x.reshape(-1, 1)) for x in np.array_split(np.concatenate(xi_train), 20)] for i in range(1, 16) }\n",
    "xi_vec_test = { \"degree \" + str(i): PolynomialFeatures(i).fit_transform(np.concatenate(xi_test).reshape(-1, 1)) for i in range(1, 16) }"
   ]
  },
  {
   "cell_type": "markdown",
   "id": "8ac0537b",
   "metadata": {
    "papermill": {
     "duration": 0.003648,
     "end_time": "2023-02-16T11:37:39.634953",
     "exception": false,
     "start_time": "2023-02-16T11:37:39.631305",
     "status": "completed"
    },
    "tags": []
   },
   "source": [
    "# **Training the Model**"
   ]
  },
  {
   "cell_type": "code",
   "execution_count": 6,
   "id": "6fa6481d",
   "metadata": {
    "execution": {
     "iopub.execute_input": "2023-02-16T11:37:39.644661Z",
     "iopub.status.busy": "2023-02-16T11:37:39.644234Z",
     "iopub.status.idle": "2023-02-16T11:37:39.790491Z",
     "shell.execute_reply": "2023-02-16T11:37:39.789438Z"
    },
    "papermill": {
     "duration": 0.154157,
     "end_time": "2023-02-16T11:37:39.793097",
     "exception": false,
     "start_time": "2023-02-16T11:37:39.638940",
     "status": "completed"
    },
    "tags": []
   },
   "outputs": [],
   "source": [
    "Models = { \"degree \" + str(i): [LinearRegression().fit(xi_vec_train[\"degree \" + str(i)][j], yi_train[j]) for j in range(20)] for i in range(1, 16) }\n"
   ]
  },
  {
   "cell_type": "markdown",
   "id": "8a293fc7",
   "metadata": {
    "papermill": {
     "duration": 0.003549,
     "end_time": "2023-02-16T11:37:39.800702",
     "exception": false,
     "start_time": "2023-02-16T11:37:39.797153",
     "status": "completed"
    },
    "tags": []
   },
   "source": [
    "# **Prediction**"
   ]
  },
  {
   "cell_type": "code",
   "execution_count": 7,
   "id": "0e8789d0",
   "metadata": {
    "execution": {
     "iopub.execute_input": "2023-02-16T11:37:39.811211Z",
     "iopub.status.busy": "2023-02-16T11:37:39.810154Z",
     "iopub.status.idle": "2023-02-16T11:37:39.845361Z",
     "shell.execute_reply": "2023-02-16T11:37:39.844325Z"
    },
    "papermill": {
     "duration": 0.043334,
     "end_time": "2023-02-16T11:37:39.847866",
     "exception": false,
     "start_time": "2023-02-16T11:37:39.804532",
     "status": "completed"
    },
    "tags": []
   },
   "outputs": [],
   "source": [
    "f_cap_x = { \"degree \" + str(i): np.array([Models[\"degree \" + str(i)][j].predict(xi_vec_test[\"degree \" + str(i)]) for j in range(20)]) for i in range(1, 16) }"
   ]
  },
  {
   "cell_type": "markdown",
   "id": "c8900c2d",
   "metadata": {
    "papermill": {
     "duration": 0.003757,
     "end_time": "2023-02-16T11:37:39.856229",
     "exception": false,
     "start_time": "2023-02-16T11:37:39.852472",
     "status": "completed"
    },
    "tags": []
   },
   "source": []
  }
 ],
 "metadata": {
  "kernelspec": {
   "display_name": "Python 3",
   "language": "python",
   "name": "python3"
  },
  "language_info": {
   "codemirror_mode": {
    "name": "ipython",
    "version": 3
   },
   "file_extension": ".py",
   "mimetype": "text/x-python",
   "name": "python",
   "nbconvert_exporter": "python",
   "pygments_lexer": "ipython3",
   "version": "3.7.12"
  },
  "papermill": {
   "default_parameters": {},
   "duration": 12.216314,
   "end_time": "2023-02-16T11:37:40.582399",
   "environment_variables": {},
   "exception": null,
   "input_path": "__notebook__.ipynb",
   "output_path": "__notebook__.ipynb",
   "parameters": {},
   "start_time": "2023-02-16T11:37:28.366085",
   "version": "2.3.4"
  }
 },
 "nbformat": 4,
 "nbformat_minor": 5
}
